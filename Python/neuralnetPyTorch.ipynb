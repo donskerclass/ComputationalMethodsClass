{
  "nbformat": 4,
  "nbformat_minor": 0,
  "metadata": {
    "colab": {
      "provenance": [],
      "gpuType": "T4"
    },
    "kernelspec": {
      "name": "python3",
      "display_name": "Python 3"
    },
    "language_info": {
      "name": "python"
    },
    "accelerator": "GPU",
    "gpuClass": "standard"
  },
  "cells": [
    {
      "cell_type": "code",
      "source": [
        "x = torch.tensor([1., 2, 3],requires_grad = True)"
      ],
      "metadata": {
        "id": "5890fFWdaGiS"
      },
      "execution_count": null,
      "outputs": []
    },
    {
      "cell_type": "code",
      "execution_count": null,
      "metadata": {
        "id": "pB8nK09WPs8J"
      },
      "outputs": [],
      "source": [
        "import torch.nn as nn\n",
        "import torch.nn.functional as F\n",
        "import torch"
      ]
    },
    {
      "cell_type": "code",
      "source": [
        "x"
      ],
      "metadata": {
        "colab": {
          "base_uri": "https://localhost:8080/"
        },
        "id": "6Wt9bysAaLbk",
        "outputId": "6f488e4d-3a1b-4bcc-c98a-adf9275616de"
      },
      "execution_count": null,
      "outputs": [
        {
          "output_type": "execute_result",
          "data": {
            "text/plain": [
              "tensor([1., 2., 3.], requires_grad=True)"
            ]
          },
          "metadata": {},
          "execution_count": 3
        }
      ]
    },
    {
      "cell_type": "code",
      "source": [
        "y = torch.sum(2 * x)"
      ],
      "metadata": {
        "id": "YJiDvZm1aMmz"
      },
      "execution_count": null,
      "outputs": []
    },
    {
      "cell_type": "code",
      "source": [
        "y.backward()"
      ],
      "metadata": {
        "id": "lNQN_VF8aS7w"
      },
      "execution_count": null,
      "outputs": []
    },
    {
      "cell_type": "code",
      "source": [
        "x.grad"
      ],
      "metadata": {
        "colab": {
          "base_uri": "https://localhost:8080/"
        },
        "id": "xV8u8RdlaVlU",
        "outputId": "d51969d1-2dbf-4c7f-a3cb-d95a333c5d75"
      },
      "execution_count": null,
      "outputs": [
        {
          "output_type": "execute_result",
          "data": {
            "text/plain": [
              "tensor([2., 2., 2.])"
            ]
          },
          "metadata": {},
          "execution_count": 8
        }
      ]
    },
    {
      "cell_type": "markdown",
      "source": [
        "# **Tensor Instantiation and Device**"
      ],
      "metadata": {
        "id": "4D0BMPbgRjIk"
      }
    },
    {
      "cell_type": "code",
      "source": [
        "x = torch.randn(10000, 10000)"
      ],
      "metadata": {
        "id": "7833b9LpQGcY"
      },
      "execution_count": null,
      "outputs": []
    },
    {
      "cell_type": "code",
      "source": [
        "x.device"
      ],
      "metadata": {
        "colab": {
          "base_uri": "https://localhost:8080/"
        },
        "id": "7btHeVW_QbJE",
        "outputId": "b6cd6eb2-0d17-4b6d-904d-644042cf335f"
      },
      "execution_count": null,
      "outputs": [
        {
          "output_type": "execute_result",
          "data": {
            "text/plain": [
              "device(type='cpu')"
            ]
          },
          "metadata": {},
          "execution_count": 10
        }
      ]
    },
    {
      "cell_type": "code",
      "source": [
        "%timeit x ** 3"
      ],
      "metadata": {
        "colab": {
          "base_uri": "https://localhost:8080/"
        },
        "id": "V1GaKZEkQTR6",
        "outputId": "84f217ed-f64e-4e2a-ec6e-2d77202adc67"
      },
      "execution_count": null,
      "outputs": [
        {
          "output_type": "stream",
          "name": "stdout",
          "text": [
            "216 ms ± 7.34 ms per loop (mean ± std. dev. of 7 runs, 1 loop each)\n"
          ]
        }
      ]
    },
    {
      "cell_type": "code",
      "source": [
        "x.to('cuda')"
      ],
      "metadata": {
        "colab": {
          "base_uri": "https://localhost:8080/"
        },
        "id": "4mZx679aQvFR",
        "outputId": "a45dffe3-866a-409c-c4d1-67177f8c10c8"
      },
      "execution_count": null,
      "outputs": [
        {
          "output_type": "execute_result",
          "data": {
            "text/plain": [
              "tensor([[ 3.9380e-01, -3.6307e-01, -2.7551e-01,  ..., -8.6402e-04,\n",
              "         -1.7256e+00, -9.2419e-02],\n",
              "        [-7.2057e-01,  6.9482e-01,  6.8734e-01,  ...,  1.1710e-01,\n",
              "          1.5866e+00, -1.2208e+00],\n",
              "        [-1.0436e+00, -2.6433e+00, -9.8356e-01,  ..., -1.3291e+00,\n",
              "          9.6770e-01, -7.8871e-02],\n",
              "        ...,\n",
              "        [-1.6796e+00, -1.6737e+00, -4.8371e-01,  ...,  4.3471e-01,\n",
              "         -2.9183e-01,  6.1980e-02],\n",
              "        [ 8.7491e-01, -7.3202e-01,  1.7640e+00,  ..., -7.4124e-01,\n",
              "         -1.1523e+00, -8.4375e-01],\n",
              "        [ 2.1173e-01, -7.4375e-01, -1.2692e+00,  ...,  5.3401e-01,\n",
              "         -2.5442e-01, -2.0747e-03]], device='cuda:0')"
            ]
          },
          "metadata": {},
          "execution_count": 12
        }
      ]
    },
    {
      "cell_type": "code",
      "source": [
        "%timeit x ** 3"
      ],
      "metadata": {
        "colab": {
          "base_uri": "https://localhost:8080/"
        },
        "id": "6ME8dwn2QvwC",
        "outputId": "5d180d5d-36bc-4d04-f3b7-9f35d4ce4b3e"
      },
      "execution_count": null,
      "outputs": [
        {
          "output_type": "stream",
          "name": "stdout",
          "text": [
            "212 ms ± 4.07 ms per loop (mean ± std. dev. of 7 runs, 1 loop each)\n"
          ]
        }
      ]
    },
    {
      "cell_type": "code",
      "source": [
        "x.dtype"
      ],
      "metadata": {
        "colab": {
          "base_uri": "https://localhost:8080/"
        },
        "id": "fRg1frwRUVX1",
        "outputId": "faf2a403-35f1-418c-bd8f-a06f11d790a5"
      },
      "execution_count": null,
      "outputs": [
        {
          "output_type": "execute_result",
          "data": {
            "text/plain": [
              "torch.float32"
            ]
          },
          "metadata": {},
          "execution_count": 14
        }
      ]
    },
    {
      "cell_type": "markdown",
      "source": [
        "# Neural Methods"
      ],
      "metadata": {
        "id": "QkoF4IZ9UhYq"
      }
    },
    {
      "cell_type": "code",
      "source": [
        "class NeuralNetwork(nn.Module):\n",
        "    def __init__(self):\n",
        "        super().__init__()\n",
        "        self.flatten = nn.Flatten()\n",
        "        self.linear_relu_stack = nn.Sequential(\n",
        "            nn.Linear(10, 512),\n",
        "            nn.ReLU(),\n",
        "            nn.Linear(512, 512),\n",
        "            nn.ReLU(),\n",
        "            nn.Linear(512, 1),\n",
        "        )\n",
        "\n",
        "    def forward(self, x):\n",
        "        x = self.flatten(x)\n",
        "        logits = self.linear_relu_stack(x)\n",
        "        return logits"
      ],
      "metadata": {
        "id": "ZOE2Wpd3UV9_"
      },
      "execution_count": null,
      "outputs": []
    },
    {
      "cell_type": "code",
      "source": [
        "ourNet = NeuralNetwork()\n"
      ],
      "metadata": {
        "id": "Bo8gwYRIUntr"
      },
      "execution_count": null,
      "outputs": []
    },
    {
      "cell_type": "code",
      "source": [
        "data = torch.rand(1, 10)"
      ],
      "metadata": {
        "id": "ri2njzeEVidS"
      },
      "execution_count": null,
      "outputs": []
    },
    {
      "cell_type": "code",
      "source": [
        "out = ourNet(data)"
      ],
      "metadata": {
        "id": "92GtNlRVUoq7"
      },
      "execution_count": null,
      "outputs": []
    },
    {
      "cell_type": "code",
      "source": [
        "data, out"
      ],
      "metadata": {
        "colab": {
          "base_uri": "https://localhost:8080/"
        },
        "id": "oUc-iXhCVrHn",
        "outputId": "44eb4ee0-cca3-4246-9af3-ccc9789753ce"
      },
      "execution_count": null,
      "outputs": [
        {
          "output_type": "execute_result",
          "data": {
            "text/plain": [
              "(tensor([[0.2345, 0.6406, 0.3328, 0.0317, 0.5018, 0.3104, 0.4626, 0.4340, 0.2924,\n",
              "          0.9660]]),\n",
              " tensor([[0.0244]], grad_fn=<AddmmBackward0>))"
            ]
          },
          "metadata": {},
          "execution_count": 20
        }
      ]
    },
    {
      "cell_type": "code",
      "source": [
        "loss = nn.L1Loss()"
      ],
      "metadata": {
        "id": "Lo-CDAmMVLJD"
      },
      "execution_count": null,
      "outputs": []
    },
    {
      "cell_type": "code",
      "source": [
        "ourLoss = loss(torch.mean(data), out)"
      ],
      "metadata": {
        "id": "BG-sDydTVcAu",
        "colab": {
          "base_uri": "https://localhost:8080/"
        },
        "outputId": "dc36208c-dd64-465a-f030-eb0030ba3c27"
      },
      "execution_count": null,
      "outputs": [
        {
          "output_type": "stream",
          "name": "stderr",
          "text": [
            "/usr/local/lib/python3.9/dist-packages/torch/nn/modules/loss.py:101: UserWarning: Using a target size (torch.Size([1, 1])) that is different to the input size (torch.Size([])). This will likely lead to incorrect results due to broadcasting. Please ensure they have the same size.\n",
            "  return F.l1_loss(input, target, reduction=self.reduction)\n"
          ]
        }
      ]
    },
    {
      "cell_type": "code",
      "source": [
        "ourLoss, ourLoss.backward()"
      ],
      "metadata": {
        "colab": {
          "base_uri": "https://localhost:8080/"
        },
        "id": "oEE0-DG3WIjH",
        "outputId": "1291efc9-0c9f-49cf-c614-95afb3380aba"
      },
      "execution_count": null,
      "outputs": [
        {
          "output_type": "execute_result",
          "data": {
            "text/plain": [
              "(tensor(0.3963, grad_fn=<MeanBackward0>), None)"
            ]
          },
          "metadata": {},
          "execution_count": 23
        }
      ]
    },
    {
      "cell_type": "code",
      "source": [
        "torch.tensor([1.]) - 1"
      ],
      "metadata": {
        "id": "KskKPZEKWSWR",
        "colab": {
          "base_uri": "https://localhost:8080/"
        },
        "outputId": "72f80640-f2ad-4195-d2e8-f3b969ba331e"
      },
      "execution_count": null,
      "outputs": [
        {
          "output_type": "execute_result",
          "data": {
            "text/plain": [
              "tensor([0.])"
            ]
          },
          "metadata": {},
          "execution_count": 25
        }
      ]
    },
    {
      "cell_type": "code",
      "source": [],
      "metadata": {
        "id": "2E7uq04ccTbp"
      },
      "execution_count": null,
      "outputs": []
    }
  ]
}