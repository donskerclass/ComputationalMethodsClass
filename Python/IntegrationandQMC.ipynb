{
  "nbformat": 4,
  "nbformat_minor": 0,
  "metadata": {
    "colab": {
      "provenance": [],
      "authorship_tag": "ABX9TyPgxabvzcVe13GUJswhLO1D",
      "include_colab_link": true
    },
    "kernelspec": {
      "name": "python3",
      "display_name": "Python 3"
    },
    "language_info": {
      "name": "python"
    }
  },
  "cells": [
    {
      "cell_type": "markdown",
      "metadata": {
        "id": "view-in-github",
        "colab_type": "text"
      },
      "source": [
        "<a href=\"https://colab.research.google.com/github/donskerclass/ComputationalMethodsClass/blob/main/Python/IntegrationandQMC.ipynb\" target=\"_parent\"><img src=\"https://colab.research.google.com/assets/colab-badge.svg\" alt=\"Open In Colab\"/></a>"
      ]
    },
    {
      "cell_type": "markdown",
      "source": [
        "## Numerical integration\n",
        "\n",
        "A notebook to demonstrate a few tools in scipy for numerical integration. See the manual for details of [quadrature](https://docs.scipy.org/doc/scipy/reference/integrate.html) and [quasi-Monte Carlo](https://docs.scipy.org/doc/scipy/reference/stats.qmc.html) functions."
      ],
      "metadata": {
        "id": "WoniPnlgf1V4"
      }
    },
    {
      "cell_type": "code",
      "execution_count": 1,
      "metadata": {
        "id": "AjsA_5OwZKEs"
      },
      "outputs": [],
      "source": [
        "import numpy as np\n",
        "from scipy import integrate\n",
        "from scipy.stats import qmc"
      ]
    },
    {
      "cell_type": "code",
      "source": [
        "f = lambda x: np.cos(x)\n",
        "a=0\n",
        "b=np.pi\n",
        "#Locally Adaptive quadrature\n",
        "quad1 = integrate.quad(f,a=a,b=b) \n",
        "quad1"
      ],
      "metadata": {
        "colab": {
          "base_uri": "https://localhost:8080/"
        },
        "id": "iDfpkl3MbE6V",
        "outputId": "704a8903-57c8-4d82-cf06-1b5cf7203d25"
      },
      "execution_count": 2,
      "outputs": [
        {
          "output_type": "execute_result",
          "data": {
            "text/plain": [
              "(4.9225526349740854e-17, 2.2102239425853306e-14)"
            ]
          },
          "metadata": {},
          "execution_count": 2
        }
      ]
    },
    {
      "cell_type": "markdown",
      "source": [
        "The true value of this integral is $\\int_{0}^{\\pi} cos(x)dx=0$, so this procedure approaches machine precision. The second element of the output is an accuracy measure, which confirms this."
      ],
      "metadata": {
        "id": "Lk9fnR4AgYC5"
      }
    },
    {
      "cell_type": "code",
      "source": [
        "#Gaussian quadrature run until fixed tolerance\n",
        "quad2 = integrate.quadrature(f,a=a,b=b)\n",
        "quad2"
      ],
      "metadata": {
        "colab": {
          "base_uri": "https://localhost:8080/"
        },
        "id": "iVNuWA58cXCk",
        "outputId": "4a4a31b4-e85c-4d9a-e1e4-0c9e648d5080"
      },
      "execution_count": 3,
      "outputs": [
        {
          "output_type": "execute_result",
          "data": {
            "text/plain": [
              "(3.487868498008632e-16, 1.564197804286842e-16)"
            ]
          },
          "metadata": {},
          "execution_count": 3
        }
      ]
    },
    {
      "cell_type": "code",
      "source": [
        "#Fixed order Gaussian quadrature\n",
        "quad3 = integrate.fixed_quad(f,a=a,b=b,n=5)\n",
        "quad3"
      ],
      "metadata": {
        "colab": {
          "base_uri": "https://localhost:8080/"
        },
        "id": "IUa-hKZecpF1",
        "outputId": "0156b7ef-0962-4bbb-8ff9-6d2eacbfa9c0"
      },
      "execution_count": 4,
      "outputs": [
        {
          "output_type": "execute_result",
          "data": {
            "text/plain": [
              "(3.051884935757553e-16, None)"
            ]
          },
          "metadata": {},
          "execution_count": 4
        }
      ]
    },
    {
      "cell_type": "code",
      "source": [
        "#QMC by Halton draws\n",
        "num_draws = 500\n",
        "sampler = qmc.Halton(d=1, scramble=False)\n",
        "sample = sampler.random(n=num_draws)\n",
        "scaled_sample = qmc.scale(sample, a, b)\n",
        "scaled_sample[0:5] #First 5 draws"
      ],
      "metadata": {
        "colab": {
          "base_uri": "https://localhost:8080/"
        },
        "id": "iCGfDMH5eFoZ",
        "outputId": "b5181ac1-6ae9-4042-969f-6ae349e4055e"
      },
      "execution_count": 5,
      "outputs": [
        {
          "output_type": "execute_result",
          "data": {
            "text/plain": [
              "array([[0.        ],\n",
              "       [1.57079633],\n",
              "       [0.78539816],\n",
              "       [2.35619449],\n",
              "       [0.39269908]])"
            ]
          },
          "metadata": {},
          "execution_count": 5
        }
      ]
    },
    {
      "cell_type": "code",
      "source": [
        "qmcint = np.mean(f(scaled_sample))\n",
        "qmcint"
      ],
      "metadata": {
        "colab": {
          "base_uri": "https://localhost:8080/"
        },
        "id": "Alu6-tIGfV8C",
        "outputId": "668add78-9ae4-4418-e1c4-dcfb2c9820b9"
      },
      "execution_count": 6,
      "outputs": [
        {
          "output_type": "execute_result",
          "data": {
            "text/plain": [
              "0.004926388457720745"
            ]
          },
          "metadata": {},
          "execution_count": 6
        }
      ]
    }
  ]
}