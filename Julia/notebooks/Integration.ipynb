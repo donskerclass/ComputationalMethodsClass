{
 "cells": [
  {
   "cell_type": "code",
   "execution_count": 1,
   "metadata": {},
   "outputs": [
    {
     "name": "stderr",
     "output_type": "stream",
     "text": [
      "\u001b[32m\u001b[1m  Activating\u001b[22m\u001b[39m project at `~/Library/CloudStorage/Dropbox/Computational Methods/Code/Julia`\n"
     ]
    }
   ],
   "source": [
    "#Set up the Julia environment to use standard packages using Project and Manifest in file directory\n",
    "import Pkg; \n",
    "Pkg.activate(\".\")\n",
    "Pkg.instantiate()"
   ]
  },
  {
   "cell_type": "code",
   "execution_count": 2,
   "metadata": {},
   "outputs": [],
   "source": [
    "using QuasiMonteCarlo, Distributions"
   ]
  },
  {
   "cell_type": "code",
   "execution_count": 3,
   "metadata": {},
   "outputs": [],
   "source": [
    "#import Pkg; Pkg.add(\"QuasiMonteCarlo\")"
   ]
  },
  {
   "cell_type": "code",
   "execution_count": 4,
   "metadata": {},
   "outputs": [],
   "source": [
    "#using QuasiMonteCarlo"
   ]
  },
  {
   "cell_type": "code",
   "execution_count": 5,
   "metadata": {},
   "outputs": [
    {
     "data": {
      "text/plain": [
       "3"
      ]
     },
     "execution_count": 5,
     "metadata": {},
     "output_type": "execute_result"
    }
   ],
   "source": [
    "lb = [0.1,-0.5,4]\n",
    "ub = [1.0,20.0,6]\n",
    "n = 20\n",
    "d = 3"
   ]
  },
  {
   "cell_type": "code",
   "execution_count": 6,
   "metadata": {},
   "outputs": [
    {
     "data": {
      "text/plain": [
       "3×20 Matrix{Float64}:\n",
       " 0.4      0.7      0.2       0.5     …   0.166667   0.466667   0.766667\n",
       " 2.42857  5.35714  8.28571  11.2143     12.051     14.9796    17.9082\n",
       " 4.2      4.4      4.6       4.8         5.62       5.82       4.04"
      ]
     },
     "execution_count": 6,
     "metadata": {},
     "output_type": "execute_result"
    }
   ],
   "source": [
    "A = QuasiMonteCarlo.sample(n,lb,ub,LowDiscrepancySample([3,7,10],false)) #Halton sequence with base [3,7,10], a set of coprime integers"
   ]
  },
  {
   "cell_type": "code",
   "execution_count": 7,
   "metadata": {},
   "outputs": [
    {
     "data": {
      "text/plain": [
       "3×20 Matrix{Float64}:\n",
       " 0.19     0.28     0.37      0.46     …   0.829     0.919     0.118\n",
       " 2.42857  5.35714  8.28571  11.2143      12.051    14.9796   17.9082\n",
       " 4.66667  5.33333  4.22222   4.88889      4.14815   4.81481   5.48148"
      ]
     },
     "execution_count": 7,
     "metadata": {},
     "output_type": "execute_result"
    }
   ],
   "source": [
    "A = QuasiMonteCarlo.sample(n,lb,ub,LowDiscrepancySample([10,7,3],false)) #Change the base"
   ]
  },
  {
   "cell_type": "code",
   "execution_count": null,
   "metadata": {},
   "outputs": [],
   "source": []
  }
 ],
 "metadata": {
  "kernelspec": {
   "display_name": "Julia 1.8.0",
   "language": "julia",
   "name": "julia-1.8"
  },
  "language_info": {
   "file_extension": ".jl",
   "mimetype": "application/julia",
   "name": "julia",
   "version": "1.8.0"
  }
 },
 "nbformat": 4,
 "nbformat_minor": 4
}
